{
  "nbformat": 4,
  "nbformat_minor": 0,
  "metadata": {
    "colab": {
      "provenance": [],
      "include_colab_link": true
    },
    "kernelspec": {
      "name": "python3",
      "display_name": "Python 3"
    },
    "language_info": {
      "name": "python"
    }
  },
  "cells": [
    {
      "cell_type": "markdown",
      "metadata": {
        "id": "view-in-github",
        "colab_type": "text"
      },
      "source": [
        "<a href=\"https://colab.research.google.com/github/kaushikgowda73/intrnl-exm/blob/main/Boston_keras.ipynb\" target=\"_parent\"><img src=\"https://colab.research.google.com/assets/colab-badge.svg\" alt=\"Open In Colab\"/></a>"
      ]
    },
    {
      "cell_type": "code",
      "source": [
        "import pandas as pd\n",
        "import numpy as np\n",
        "import seaborn as sns\n",
        "import matplotlib.pyplot as plt\n",
        "import warnings\n",
        "%matplotlib inline\n",
        "warnings.filterwarnings('ignore')\n",
        "from keras.models import Sequential\n",
        "from keras.layers import Dense\n",
        "from sklearn import linear_model\n",
        "from sklearn.metrics import mean_squared_error, mean_absolute_error"
      ],
      "metadata": {
        "id": "-R-VLtoh8RLM"
      },
      "execution_count": 1,
      "outputs": []
    },
    {
      "cell_type": "code",
      "source": [
        "from tensorflow.keras.datasets import boston_housing"
      ],
      "metadata": {
        "id": "ZpTi_8xn8Vsi"
      },
      "execution_count": 2,
      "outputs": []
    },
    {
      "cell_type": "code",
      "source": [
        "(X_train,y_train),(X_test,y_test)=boston_housing.load_data()"
      ],
      "metadata": {
        "colab": {
          "base_uri": "https://localhost:8080/"
        },
        "id": "54SB1CN-8VpC",
        "outputId": "7cdb1a45-9c19-4cb2-e41c-a3686283c8ee"
      },
      "execution_count": 3,
      "outputs": [
        {
          "output_type": "stream",
          "name": "stdout",
          "text": [
            "Downloading data from https://storage.googleapis.com/tensorflow/tf-keras-datasets/boston_housing.npz\n",
            "57026/57026 [==============================] - 0s 0us/step\n"
          ]
        }
      ]
    },
    {
      "cell_type": "code",
      "source": [
        "from sklearn.preprocessing import StandardScaler\n",
        "scaler=StandardScaler()\n",
        "scaler.fit(X_train)\n",
        "X_train_scaled = scaler.transform(X_train)\n",
        "X_test_scaled = scaler.transform(X_test)"
      ],
      "metadata": {
        "id": "FUq2S4IW8Vmi"
      },
      "execution_count": 4,
      "outputs": []
    },
    {
      "cell_type": "code",
      "source": [
        "model = Sequential()\n",
        "model.add(Dense(128, input_dim=13, activation='relu'))\n",
        "model.add(Dense(64, activation='relu'))\n",
        "\n",
        "model.add(Dense(1, activation='linear'))"
      ],
      "metadata": {
        "id": "nw535Egp8Vjq"
      },
      "execution_count": 5,
      "outputs": []
    },
    {
      "cell_type": "code",
      "source": [
        "model.compile(loss='mean_squared_error', optimizer='adam', metrics=['mae'])\n",
        "model.summary()"
      ],
      "metadata": {
        "colab": {
          "base_uri": "https://localhost:8080/"
        },
        "id": "Ezw8G-II8dgM",
        "outputId": "b10d8110-ffab-4445-e7ce-5f5855ca8126"
      },
      "execution_count": 6,
      "outputs": [
        {
          "output_type": "stream",
          "name": "stdout",
          "text": [
            "Model: \"sequential\"\n",
            "_________________________________________________________________\n",
            " Layer (type)                Output Shape              Param #   \n",
            "=================================================================\n",
            " dense (Dense)               (None, 128)               1792      \n",
            "                                                                 \n",
            " dense_1 (Dense)             (None, 64)                8256      \n",
            "                                                                 \n",
            " dense_2 (Dense)             (None, 1)                 65        \n",
            "                                                                 \n",
            "=================================================================\n",
            "Total params: 10,113\n",
            "Trainable params: 10,113\n",
            "Non-trainable params: 0\n",
            "_________________________________________________________________\n"
          ]
        }
      ]
    },
    {
      "cell_type": "code",
      "source": [
        "history = model.fit(X_train_scaled, y_train, validation_split=0.2, epochs =100)"
      ],
      "metadata": {
        "colab": {
          "base_uri": "https://localhost:8080/"
        },
        "id": "Ms7AxWAW8ddJ",
        "outputId": "ace8969d-6fe0-4a4e-ab95-e5e67fc5ee0f"
      },
      "execution_count": 7,
      "outputs": [
        {
          "output_type": "stream",
          "name": "stdout",
          "text": [
            "Epoch 1/100\n",
            "11/11 [==============================] - 1s 25ms/step - loss: 546.4177 - mae: 21.5591 - val_loss: 575.9913 - val_mae: 22.2754\n",
            "Epoch 2/100\n",
            "11/11 [==============================] - 0s 5ms/step - loss: 478.7250 - mae: 20.0103 - val_loss: 501.8010 - val_mae: 20.6028\n",
            "Epoch 3/100\n",
            "11/11 [==============================] - 0s 6ms/step - loss: 400.7009 - mae: 18.0329 - val_loss: 407.0876 - val_mae: 18.2909\n",
            "Epoch 4/100\n",
            "11/11 [==============================] - 0s 6ms/step - loss: 301.9502 - mae: 15.2825 - val_loss: 291.1067 - val_mae: 14.9769\n",
            "Epoch 5/100\n",
            "11/11 [==============================] - 0s 7ms/step - loss: 193.5711 - mae: 11.7061 - val_loss: 177.5504 - val_mae: 10.8666\n",
            "Epoch 6/100\n",
            "11/11 [==============================] - 0s 6ms/step - loss: 109.1737 - mae: 8.2567 - val_loss: 106.4814 - val_mae: 7.9060\n",
            "Epoch 7/100\n",
            "11/11 [==============================] - 0s 5ms/step - loss: 69.4983 - mae: 6.3051 - val_loss: 78.0720 - val_mae: 6.6617\n",
            "Epoch 8/100\n",
            "11/11 [==============================] - 0s 7ms/step - loss: 53.0338 - mae: 5.3686 - val_loss: 61.5156 - val_mae: 5.8613\n",
            "Epoch 9/100\n",
            "11/11 [==============================] - 0s 5ms/step - loss: 42.2882 - mae: 4.6359 - val_loss: 48.3626 - val_mae: 5.1435\n",
            "Epoch 10/100\n",
            "11/11 [==============================] - 0s 6ms/step - loss: 34.2574 - mae: 4.0760 - val_loss: 41.1861 - val_mae: 4.7254\n",
            "Epoch 11/100\n",
            "11/11 [==============================] - 0s 5ms/step - loss: 29.8412 - mae: 3.7325 - val_loss: 35.4690 - val_mae: 4.3776\n",
            "Epoch 12/100\n",
            "11/11 [==============================] - 0s 5ms/step - loss: 26.3004 - mae: 3.5714 - val_loss: 31.6151 - val_mae: 4.2873\n",
            "Epoch 13/100\n",
            "11/11 [==============================] - 0s 5ms/step - loss: 24.6629 - mae: 3.5104 - val_loss: 29.1397 - val_mae: 4.1134\n",
            "Epoch 14/100\n",
            "11/11 [==============================] - 0s 6ms/step - loss: 22.8136 - mae: 3.3271 - val_loss: 27.3353 - val_mae: 3.9350\n",
            "Epoch 15/100\n",
            "11/11 [==============================] - 0s 6ms/step - loss: 21.3149 - mae: 3.1576 - val_loss: 26.6595 - val_mae: 3.8403\n",
            "Epoch 16/100\n",
            "11/11 [==============================] - 0s 7ms/step - loss: 20.4339 - mae: 3.0730 - val_loss: 25.2249 - val_mae: 3.7528\n",
            "Epoch 17/100\n",
            "11/11 [==============================] - 0s 5ms/step - loss: 19.3471 - mae: 3.0064 - val_loss: 24.0217 - val_mae: 3.6760\n",
            "Epoch 18/100\n",
            "11/11 [==============================] - 0s 5ms/step - loss: 18.6859 - mae: 2.9532 - val_loss: 22.8809 - val_mae: 3.5789\n",
            "Epoch 19/100\n",
            "11/11 [==============================] - 0s 7ms/step - loss: 17.9167 - mae: 2.8944 - val_loss: 22.0021 - val_mae: 3.5355\n",
            "Epoch 20/100\n",
            "11/11 [==============================] - 0s 5ms/step - loss: 17.3558 - mae: 2.8472 - val_loss: 21.3523 - val_mae: 3.5050\n",
            "Epoch 21/100\n",
            "11/11 [==============================] - 0s 6ms/step - loss: 16.5062 - mae: 2.7923 - val_loss: 20.5548 - val_mae: 3.3916\n",
            "Epoch 22/100\n",
            "11/11 [==============================] - 0s 6ms/step - loss: 16.0119 - mae: 2.7212 - val_loss: 19.9938 - val_mae: 3.3449\n",
            "Epoch 23/100\n",
            "11/11 [==============================] - 0s 5ms/step - loss: 15.4794 - mae: 2.6769 - val_loss: 19.5457 - val_mae: 3.3199\n",
            "Epoch 24/100\n",
            "11/11 [==============================] - 0s 5ms/step - loss: 14.9353 - mae: 2.6338 - val_loss: 18.8235 - val_mae: 3.2041\n",
            "Epoch 25/100\n",
            "11/11 [==============================] - 0s 5ms/step - loss: 14.4770 - mae: 2.5931 - val_loss: 18.4519 - val_mae: 3.1924\n",
            "Epoch 26/100\n",
            "11/11 [==============================] - 0s 5ms/step - loss: 13.8727 - mae: 2.5300 - val_loss: 18.3127 - val_mae: 3.2074\n",
            "Epoch 27/100\n",
            "11/11 [==============================] - 0s 7ms/step - loss: 13.6645 - mae: 2.5404 - val_loss: 17.8772 - val_mae: 3.1499\n",
            "Epoch 28/100\n",
            "11/11 [==============================] - 0s 5ms/step - loss: 13.1566 - mae: 2.4849 - val_loss: 17.3149 - val_mae: 3.0715\n",
            "Epoch 29/100\n",
            "11/11 [==============================] - 0s 5ms/step - loss: 12.8131 - mae: 2.4359 - val_loss: 16.8933 - val_mae: 3.0507\n",
            "Epoch 30/100\n",
            "11/11 [==============================] - 0s 5ms/step - loss: 12.5718 - mae: 2.4447 - val_loss: 16.8659 - val_mae: 3.0419\n",
            "Epoch 31/100\n",
            "11/11 [==============================] - 0s 5ms/step - loss: 12.3779 - mae: 2.4155 - val_loss: 16.5028 - val_mae: 3.0172\n",
            "Epoch 32/100\n",
            "11/11 [==============================] - 0s 5ms/step - loss: 11.9594 - mae: 2.3814 - val_loss: 16.1096 - val_mae: 2.9505\n",
            "Epoch 33/100\n",
            "11/11 [==============================] - 0s 6ms/step - loss: 11.7521 - mae: 2.3245 - val_loss: 15.5457 - val_mae: 2.9715\n",
            "Epoch 34/100\n",
            "11/11 [==============================] - 0s 5ms/step - loss: 11.6393 - mae: 2.3066 - val_loss: 15.5250 - val_mae: 2.9060\n",
            "Epoch 35/100\n",
            "11/11 [==============================] - 0s 7ms/step - loss: 11.2746 - mae: 2.3106 - val_loss: 15.6077 - val_mae: 2.8726\n",
            "Epoch 36/100\n",
            "11/11 [==============================] - 0s 5ms/step - loss: 11.0147 - mae: 2.2899 - val_loss: 15.1726 - val_mae: 2.8239\n",
            "Epoch 37/100\n",
            "11/11 [==============================] - 0s 5ms/step - loss: 11.0072 - mae: 2.2590 - val_loss: 15.0164 - val_mae: 2.8433\n",
            "Epoch 38/100\n",
            "11/11 [==============================] - 0s 5ms/step - loss: 10.7979 - mae: 2.2466 - val_loss: 15.1950 - val_mae: 2.8471\n",
            "Epoch 39/100\n",
            "11/11 [==============================] - 0s 5ms/step - loss: 10.7682 - mae: 2.2924 - val_loss: 15.4263 - val_mae: 2.7748\n",
            "Epoch 40/100\n",
            "11/11 [==============================] - 0s 5ms/step - loss: 10.5123 - mae: 2.2742 - val_loss: 15.1120 - val_mae: 2.7899\n",
            "Epoch 41/100\n",
            "11/11 [==============================] - 0s 6ms/step - loss: 10.3241 - mae: 2.2223 - val_loss: 15.0089 - val_mae: 2.7990\n",
            "Epoch 42/100\n",
            "11/11 [==============================] - 0s 5ms/step - loss: 10.2188 - mae: 2.2109 - val_loss: 14.8982 - val_mae: 2.8110\n",
            "Epoch 43/100\n",
            "11/11 [==============================] - 0s 5ms/step - loss: 10.0702 - mae: 2.1864 - val_loss: 14.8051 - val_mae: 2.7971\n",
            "Epoch 44/100\n",
            "11/11 [==============================] - 0s 7ms/step - loss: 9.9927 - mae: 2.1713 - val_loss: 15.0216 - val_mae: 2.7979\n",
            "Epoch 45/100\n",
            "11/11 [==============================] - 0s 5ms/step - loss: 9.8900 - mae: 2.1717 - val_loss: 14.8651 - val_mae: 2.7956\n",
            "Epoch 46/100\n",
            "11/11 [==============================] - 0s 4ms/step - loss: 9.7792 - mae: 2.1539 - val_loss: 14.8800 - val_mae: 2.7687\n",
            "Epoch 47/100\n",
            "11/11 [==============================] - 0s 4ms/step - loss: 9.8100 - mae: 2.1786 - val_loss: 15.1582 - val_mae: 2.8029\n",
            "Epoch 48/100\n",
            "11/11 [==============================] - 0s 5ms/step - loss: 9.6103 - mae: 2.1269 - val_loss: 14.7420 - val_mae: 2.7668\n",
            "Epoch 49/100\n",
            "11/11 [==============================] - 0s 6ms/step - loss: 9.5397 - mae: 2.1396 - val_loss: 15.2916 - val_mae: 2.7446\n",
            "Epoch 50/100\n",
            "11/11 [==============================] - 0s 4ms/step - loss: 9.3779 - mae: 2.1541 - val_loss: 15.2715 - val_mae: 2.7502\n",
            "Epoch 51/100\n",
            "11/11 [==============================] - 0s 7ms/step - loss: 9.3405 - mae: 2.1477 - val_loss: 15.1363 - val_mae: 2.7791\n",
            "Epoch 52/100\n",
            "11/11 [==============================] - 0s 5ms/step - loss: 9.1634 - mae: 2.1126 - val_loss: 14.9570 - val_mae: 2.7742\n",
            "Epoch 53/100\n",
            "11/11 [==============================] - 0s 5ms/step - loss: 9.4190 - mae: 2.1074 - val_loss: 14.8590 - val_mae: 2.8252\n",
            "Epoch 54/100\n",
            "11/11 [==============================] - 0s 5ms/step - loss: 9.2952 - mae: 2.1012 - val_loss: 15.2775 - val_mae: 2.7652\n",
            "Epoch 55/100\n",
            "11/11 [==============================] - 0s 6ms/step - loss: 9.2332 - mae: 2.1565 - val_loss: 15.5115 - val_mae: 2.7232\n",
            "Epoch 56/100\n",
            "11/11 [==============================] - 0s 5ms/step - loss: 8.9362 - mae: 2.1118 - val_loss: 14.9172 - val_mae: 2.7144\n",
            "Epoch 57/100\n",
            "11/11 [==============================] - 0s 5ms/step - loss: 8.7828 - mae: 2.0623 - val_loss: 14.5053 - val_mae: 2.7314\n",
            "Epoch 58/100\n",
            "11/11 [==============================] - 0s 5ms/step - loss: 8.8549 - mae: 2.0546 - val_loss: 14.7046 - val_mae: 2.7321\n",
            "Epoch 59/100\n",
            "11/11 [==============================] - 0s 5ms/step - loss: 8.7244 - mae: 2.0668 - val_loss: 14.8815 - val_mae: 2.7282\n",
            "Epoch 60/100\n",
            "11/11 [==============================] - 0s 7ms/step - loss: 8.6490 - mae: 2.0535 - val_loss: 14.6591 - val_mae: 2.7307\n",
            "Epoch 61/100\n",
            "11/11 [==============================] - 0s 4ms/step - loss: 9.0713 - mae: 2.0442 - val_loss: 13.9238 - val_mae: 2.7489\n",
            "Epoch 62/100\n",
            "11/11 [==============================] - 0s 5ms/step - loss: 8.7670 - mae: 2.0443 - val_loss: 14.5873 - val_mae: 2.6485\n",
            "Epoch 63/100\n",
            "11/11 [==============================] - 0s 7ms/step - loss: 8.5409 - mae: 2.0362 - val_loss: 14.6443 - val_mae: 2.7036\n",
            "Epoch 64/100\n",
            "11/11 [==============================] - 0s 7ms/step - loss: 8.4632 - mae: 2.0303 - val_loss: 14.8671 - val_mae: 2.7215\n",
            "Epoch 65/100\n",
            "11/11 [==============================] - 0s 5ms/step - loss: 8.9629 - mae: 2.1583 - val_loss: 16.8676 - val_mae: 2.8060\n",
            "Epoch 66/100\n",
            "11/11 [==============================] - 0s 5ms/step - loss: 8.8646 - mae: 2.1556 - val_loss: 16.0679 - val_mae: 2.8315\n",
            "Epoch 67/100\n",
            "11/11 [==============================] - 0s 4ms/step - loss: 8.5438 - mae: 2.0742 - val_loss: 15.0812 - val_mae: 2.8313\n",
            "Epoch 68/100\n",
            "11/11 [==============================] - 0s 5ms/step - loss: 8.3872 - mae: 2.0360 - val_loss: 14.9665 - val_mae: 2.7627\n",
            "Epoch 69/100\n",
            "11/11 [==============================] - 0s 6ms/step - loss: 8.2848 - mae: 2.0247 - val_loss: 15.1816 - val_mae: 2.7748\n",
            "Epoch 70/100\n",
            "11/11 [==============================] - 0s 5ms/step - loss: 8.1456 - mae: 1.9878 - val_loss: 15.0662 - val_mae: 2.7547\n",
            "Epoch 71/100\n",
            "11/11 [==============================] - 0s 7ms/step - loss: 8.1016 - mae: 1.9837 - val_loss: 15.4057 - val_mae: 2.7519\n",
            "Epoch 72/100\n",
            "11/11 [==============================] - 0s 5ms/step - loss: 8.0608 - mae: 1.9864 - val_loss: 14.8916 - val_mae: 2.7263\n",
            "Epoch 73/100\n",
            "11/11 [==============================] - 0s 5ms/step - loss: 8.0185 - mae: 1.9983 - val_loss: 14.9157 - val_mae: 2.6903\n",
            "Epoch 74/100\n",
            "11/11 [==============================] - 0s 6ms/step - loss: 7.8076 - mae: 1.9772 - val_loss: 14.7597 - val_mae: 2.7593\n",
            "Epoch 75/100\n",
            "11/11 [==============================] - 0s 6ms/step - loss: 8.3274 - mae: 2.0608 - val_loss: 14.5582 - val_mae: 2.7460\n",
            "Epoch 76/100\n",
            "11/11 [==============================] - 0s 5ms/step - loss: 7.7891 - mae: 1.9369 - val_loss: 13.9655 - val_mae: 2.6474\n",
            "Epoch 77/100\n",
            "11/11 [==============================] - 0s 6ms/step - loss: 7.7766 - mae: 1.9613 - val_loss: 14.5219 - val_mae: 2.6603\n",
            "Epoch 78/100\n",
            "11/11 [==============================] - 0s 5ms/step - loss: 7.8162 - mae: 1.9518 - val_loss: 13.9700 - val_mae: 2.6654\n",
            "Epoch 79/100\n",
            "11/11 [==============================] - 0s 6ms/step - loss: 7.7783 - mae: 1.9465 - val_loss: 14.6743 - val_mae: 2.6927\n",
            "Epoch 80/100\n",
            "11/11 [==============================] - 0s 6ms/step - loss: 7.6250 - mae: 1.9503 - val_loss: 15.3960 - val_mae: 2.7160\n",
            "Epoch 81/100\n",
            "11/11 [==============================] - 0s 5ms/step - loss: 7.5992 - mae: 1.9374 - val_loss: 14.0824 - val_mae: 2.6667\n",
            "Epoch 82/100\n",
            "11/11 [==============================] - 0s 5ms/step - loss: 7.5141 - mae: 1.9045 - val_loss: 14.0930 - val_mae: 2.6269\n",
            "Epoch 83/100\n",
            "11/11 [==============================] - 0s 5ms/step - loss: 7.5471 - mae: 1.9355 - val_loss: 14.1800 - val_mae: 2.5917\n",
            "Epoch 84/100\n",
            "11/11 [==============================] - 0s 5ms/step - loss: 7.4779 - mae: 1.9053 - val_loss: 14.3012 - val_mae: 2.6573\n",
            "Epoch 85/100\n",
            "11/11 [==============================] - 0s 5ms/step - loss: 7.5869 - mae: 1.9306 - val_loss: 15.1170 - val_mae: 2.7059\n",
            "Epoch 86/100\n",
            "11/11 [==============================] - 0s 5ms/step - loss: 7.4256 - mae: 1.9084 - val_loss: 14.4782 - val_mae: 2.6682\n",
            "Epoch 87/100\n",
            "11/11 [==============================] - 0s 7ms/step - loss: 7.2669 - mae: 1.8759 - val_loss: 14.7962 - val_mae: 2.6475\n",
            "Epoch 88/100\n",
            "11/11 [==============================] - 0s 5ms/step - loss: 7.4189 - mae: 1.9037 - val_loss: 14.5406 - val_mae: 2.6541\n",
            "Epoch 89/100\n",
            "11/11 [==============================] - 0s 5ms/step - loss: 7.5414 - mae: 1.9197 - val_loss: 14.4964 - val_mae: 2.6373\n",
            "Epoch 90/100\n",
            "11/11 [==============================] - 0s 5ms/step - loss: 7.1637 - mae: 1.8568 - val_loss: 14.4767 - val_mae: 2.6728\n",
            "Epoch 91/100\n",
            "11/11 [==============================] - 0s 7ms/step - loss: 7.1936 - mae: 1.8530 - val_loss: 14.1316 - val_mae: 2.5912\n",
            "Epoch 92/100\n",
            "11/11 [==============================] - 0s 6ms/step - loss: 7.0649 - mae: 1.8410 - val_loss: 14.1459 - val_mae: 2.6084\n",
            "Epoch 93/100\n",
            "11/11 [==============================] - 0s 5ms/step - loss: 7.2986 - mae: 1.8858 - val_loss: 14.7945 - val_mae: 2.6199\n",
            "Epoch 94/100\n",
            "11/11 [==============================] - 0s 5ms/step - loss: 7.1745 - mae: 1.8706 - val_loss: 14.6503 - val_mae: 2.6220\n",
            "Epoch 95/100\n",
            "11/11 [==============================] - 0s 5ms/step - loss: 7.1099 - mae: 1.8507 - val_loss: 14.4024 - val_mae: 2.5848\n",
            "Epoch 96/100\n",
            "11/11 [==============================] - 0s 5ms/step - loss: 7.2948 - mae: 1.9245 - val_loss: 15.4076 - val_mae: 2.6204\n",
            "Epoch 97/100\n",
            "11/11 [==============================] - 0s 7ms/step - loss: 7.1920 - mae: 1.9205 - val_loss: 14.5298 - val_mae: 2.7042\n",
            "Epoch 98/100\n",
            "11/11 [==============================] - 0s 5ms/step - loss: 7.0573 - mae: 1.8320 - val_loss: 14.9682 - val_mae: 2.6304\n",
            "Epoch 99/100\n",
            "11/11 [==============================] - 0s 5ms/step - loss: 7.3120 - mae: 1.9485 - val_loss: 18.3174 - val_mae: 2.7533\n",
            "Epoch 100/100\n",
            "11/11 [==============================] - 0s 6ms/step - loss: 6.9721 - mae: 1.8717 - val_loss: 16.6150 - val_mae: 2.8196\n"
          ]
        }
      ]
    },
    {
      "cell_type": "code",
      "source": [
        "from matplotlib import pyplot as plt\n",
        "\n",
        "loss = history.history['loss']\n",
        "val_loss = history.history['val_loss']\n",
        "epochs = range(1, len(loss) + 1)\n",
        "plt.plot(epochs, loss, 'y', label='Training loss')\n",
        "plt.plot(epochs, val_loss, 'r', label='Validation loss')\n",
        "plt.title('Training and validation loss')\n",
        "plt.xlabel('Epochs')\n",
        "plt.ylabel('Loss')\n",
        "plt.legend()\n",
        "plt.show()"
      ],
      "metadata": {
        "colab": {
          "base_uri": "https://localhost:8080/",
          "height": 295
        },
        "id": "UADh6g2I8dZi",
        "outputId": "c17853a1-599f-469d-f256-7e26e03d64e7"
      },
      "execution_count": 8,
      "outputs": [
        {
          "output_type": "display_data",
          "data": {
            "text/plain": [
              "<Figure size 432x288 with 1 Axes>"
            ],
            "image/png": "[encoded data removed]"
          },
          "metadata": {
            "needs_background": "light"
          }
        }
      ]
    },
    {
      "cell_type": "code",
      "source": [
        "mse_neural, mae_neural = model.evaluate(X_test_scaled, y_test)\n",
        "print('Mean squared error from neural net: ', mse_neural)\n",
        "print('Mean absolute error from neural net: ', mae_neural)"
      ],
      "metadata": {
        "colab": {
          "base_uri": "https://localhost:8080/"
        },
        "id": "vllmMdyV8dVN",
        "outputId": "e9997bb9-dd15-4c66-d330-7a54be579b18"
      },
      "execution_count": 9,
      "outputs": [
        {
          "output_type": "stream",
          "name": "stdout",
          "text": [
            "4/4 [==============================] - 0s 4ms/step - loss: 27.0065 - mae: 3.2133\n",
            "Mean squared error from neural net:  27.006513595581055\n",
            "Mean absolute error from neural net:  3.213263511657715\n"
          ]
        }
      ]
    },
    {
      "cell_type": "code",
      "source": [
        "predictions = model.predict(X_test_scaled[:5])\n",
        "print(\"Predicted values are: \", predictions)\n",
        "print(\"Real values are: \", y_test[:5])"
      ],
      "metadata": {
        "colab": {
          "base_uri": "https://localhost:8080/"
        },
        "id": "fUv9AetZ8dSJ",
        "outputId": "3c71e686-e5a7-43de-d4ca-60bd9691bf75"
      },
      "execution_count": 10,
      "outputs": [
        {
          "output_type": "stream",
          "name": "stdout",
          "text": [
            "1/1 [==============================] - 0s 91ms/step\n",
            "Predicted values are:  [[ 7.4409027]\n",
            " [17.945766 ]\n",
            " [20.68012  ]\n",
            " [34.473637 ]\n",
            " [24.99035  ]]\n",
            "Real values are:  [ 7.2 18.8 19.  27.  22.2]\n"
          ]
        }
      ]
    },
    {
      "cell_type": "code",
      "source": [
        "lr_model = linear_model.LinearRegression()\n",
        "lr_model.fit(X_train_scaled, y_train)\n",
        "y_pred_lr = lr_model.predict(X_test_scaled)\n",
        "mse_lr = mean_squared_error(y_test, y_pred_lr)\n",
        "mae_lr = mean_absolute_error(y_test, y_pred_lr)\n",
        "print('Mean squared error from linear regression: ', mse_lr)\n",
        "print('Mean absolute error from linear regression: ', mae_lr)"
      ],
      "metadata": {
        "colab": {
          "base_uri": "https://localhost:8080/"
        },
        "id": "xIqlsUof8tO8",
        "outputId": "e603fc8e-a380-4ba4-fc14-f206f580e84d"
      },
      "execution_count": 11,
      "outputs": [
        {
          "output_type": "stream",
          "name": "stdout",
          "text": [
            "Mean squared error from linear regression:  23.195599256423\n",
            "Mean absolute error from linear regression:  3.464185812406719\n"
          ]
        }
      ]
    },
    {
      "cell_type": "code",
      "source": [],
      "metadata": {
        "id": "zJzn3hoc8tKg"
      },
      "execution_count": null,
      "outputs": []
    }
  ]
}